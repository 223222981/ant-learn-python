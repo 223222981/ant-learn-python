{
 "cells": [
  {
   "cell_type": "code",
   "execution_count": 1,
   "metadata": {},
   "outputs": [
    {
     "data": {
      "text/html": [
       "<div>\n",
       "<style scoped>\n",
       "    .dataframe tbody tr th:only-of-type {\n",
       "        vertical-align: middle;\n",
       "    }\n",
       "\n",
       "    .dataframe tbody tr th {\n",
       "        vertical-align: top;\n",
       "    }\n",
       "\n",
       "    .dataframe thead th {\n",
       "        text-align: right;\n",
       "    }\n",
       "</style>\n",
       "<table border=\"1\" class=\"dataframe\">\n",
       "  <thead>\n",
       "    <tr style=\"text-align: right;\">\n",
       "      <th></th>\n",
       "      <th>职位</th>\n",
       "      <th>薪资</th>\n",
       "      <th>工作经验</th>\n",
       "      <th>学历要求</th>\n",
       "    </tr>\n",
       "  </thead>\n",
       "  <tbody>\n",
       "    <tr>\n",
       "      <th>0</th>\n",
       "      <td>少儿编程讲师-Java/python</td>\n",
       "      <td>0.8-1.2万/月</td>\n",
       "      <td>在校生/应届生</td>\n",
       "      <td>本科</td>\n",
       "    </tr>\n",
       "    <tr>\n",
       "      <th>1</th>\n",
       "      <td>Python开发工程师</td>\n",
       "      <td>0.8-1.2万/月</td>\n",
       "      <td>1年经验</td>\n",
       "      <td>本科</td>\n",
       "    </tr>\n",
       "    <tr>\n",
       "      <th>2</th>\n",
       "      <td>python开发工程师</td>\n",
       "      <td>1.2-1.6万/月</td>\n",
       "      <td>1年经验</td>\n",
       "      <td>本科</td>\n",
       "    </tr>\n",
       "    <tr>\n",
       "      <th>3</th>\n",
       "      <td>Python教研/教学主任</td>\n",
       "      <td>1-1.5万/月</td>\n",
       "      <td>3-4年经验</td>\n",
       "      <td>本科</td>\n",
       "    </tr>\n",
       "    <tr>\n",
       "      <th>4</th>\n",
       "      <td>德企招Python 全栈工程师</td>\n",
       "      <td>1-1.5万/月</td>\n",
       "      <td>2年经验</td>\n",
       "      <td>本科</td>\n",
       "    </tr>\n",
       "    <tr>\n",
       "      <th>...</th>\n",
       "      <td>...</td>\n",
       "      <td>...</td>\n",
       "      <td>...</td>\n",
       "      <td>...</td>\n",
       "    </tr>\n",
       "    <tr>\n",
       "      <th>95</th>\n",
       "      <td>少儿编程讲师-java/web/python</td>\n",
       "      <td>0.8-1万/月</td>\n",
       "      <td>在校生/应届生</td>\n",
       "      <td>本科</td>\n",
       "    </tr>\n",
       "    <tr>\n",
       "      <th>96</th>\n",
       "      <td>计算机视觉算法工程师（python）(002083)</td>\n",
       "      <td>1.5-2万/月</td>\n",
       "      <td>无需经验</td>\n",
       "      <td>本科</td>\n",
       "    </tr>\n",
       "    <tr>\n",
       "      <th>97</th>\n",
       "      <td>运维工程师（驻场银行）</td>\n",
       "      <td>0.9-1.3万/月</td>\n",
       "      <td>2年经验</td>\n",
       "      <td>本科</td>\n",
       "    </tr>\n",
       "    <tr>\n",
       "      <th>98</th>\n",
       "      <td>测试工程师</td>\n",
       "      <td>1-1.5万/月</td>\n",
       "      <td>3-4年经验</td>\n",
       "      <td>本科</td>\n",
       "    </tr>\n",
       "    <tr>\n",
       "      <th>99</th>\n",
       "      <td>量化投资研究员</td>\n",
       "      <td>1-2万/月</td>\n",
       "      <td>2年经验</td>\n",
       "      <td>本科</td>\n",
       "    </tr>\n",
       "  </tbody>\n",
       "</table>\n",
       "<p>100 rows × 4 columns</p>\n",
       "</div>"
      ],
      "text/plain": [
       "                            职位          薪资     工作经验 学历要求\n",
       "0           少儿编程讲师-Java/python  0.8-1.2万/月  在校生/应届生   本科\n",
       "1                  Python开发工程师  0.8-1.2万/月     1年经验   本科\n",
       "2                  python开发工程师  1.2-1.6万/月     1年经验   本科\n",
       "3                Python教研/教学主任    1-1.5万/月   3-4年经验   本科\n",
       "4              德企招Python 全栈工程师    1-1.5万/月     2年经验   本科\n",
       "..                         ...         ...      ...  ...\n",
       "95      少儿编程讲师-java/web/python    0.8-1万/月  在校生/应届生   本科\n",
       "96  计算机视觉算法工程师（python）(002083)    1.5-2万/月     无需经验   本科\n",
       "97                 运维工程师（驻场银行）  0.9-1.3万/月     2年经验   本科\n",
       "98                       测试工程师    1-1.5万/月   3-4年经验   本科\n",
       "99                     量化投资研究员      1-2万/月     2年经验   本科\n",
       "\n",
       "[100 rows x 4 columns]"
      ]
     },
     "execution_count": 1,
     "metadata": {},
     "output_type": "execute_result"
    }
   ],
   "source": [
    "import pandas as pd\n",
    "df = pd.read_csv(\"./python_job.txt\", sep=\"\\t\")\n",
    "df.head(100)"
   ]
  },
  {
   "cell_type": "code",
   "execution_count": 2,
   "metadata": {},
   "outputs": [],
   "source": [
    "def compute_xinzi(x):\n",
    "    if \"万/月\" in x: \n",
    "        low,high = x.replace(\"万/月\", \"\").split(\"-\")\n",
    "        return 10000*(float(high)+float(low))/2\n",
    "    if \"千/月\" in x: \n",
    "        low,high = x.replace(\"千/月\", \"\").split(\"-\")\n",
    "        return 1000*(float(high)+float(low))/2\n",
    "    if \"万/年\" in x: \n",
    "        low,high = x.replace(\"万/年\", \"\").split(\"-\")\n",
    "        return 10000*(float(high)+float(low))/2/12\n",
    "df[\"xinzi\"] = df[\"薪资\"].map(compute_xinzi)"
   ]
  },
  {
   "cell_type": "code",
   "execution_count": 4,
   "metadata": {},
   "outputs": [
    {
     "data": {
      "text/html": [
       "<div>\n",
       "<style scoped>\n",
       "    .dataframe tbody tr th:only-of-type {\n",
       "        vertical-align: middle;\n",
       "    }\n",
       "\n",
       "    .dataframe tbody tr th {\n",
       "        vertical-align: top;\n",
       "    }\n",
       "\n",
       "    .dataframe thead th {\n",
       "        text-align: right;\n",
       "    }\n",
       "</style>\n",
       "<table border=\"1\" class=\"dataframe\">\n",
       "  <thead>\n",
       "    <tr style=\"text-align: right;\">\n",
       "      <th></th>\n",
       "      <th>职位</th>\n",
       "      <th>薪资</th>\n",
       "      <th>工作经验</th>\n",
       "      <th>学历要求</th>\n",
       "      <th>xinzi</th>\n",
       "    </tr>\n",
       "  </thead>\n",
       "  <tbody>\n",
       "    <tr>\n",
       "      <th>0</th>\n",
       "      <td>少儿编程讲师-Java/python</td>\n",
       "      <td>0.8-1.2万/月</td>\n",
       "      <td>在校生/应届生</td>\n",
       "      <td>本科</td>\n",
       "      <td>10000.0</td>\n",
       "    </tr>\n",
       "    <tr>\n",
       "      <th>1</th>\n",
       "      <td>Python开发工程师</td>\n",
       "      <td>0.8-1.2万/月</td>\n",
       "      <td>1年经验</td>\n",
       "      <td>本科</td>\n",
       "      <td>10000.0</td>\n",
       "    </tr>\n",
       "    <tr>\n",
       "      <th>2</th>\n",
       "      <td>python开发工程师</td>\n",
       "      <td>1.2-1.6万/月</td>\n",
       "      <td>1年经验</td>\n",
       "      <td>本科</td>\n",
       "      <td>14000.0</td>\n",
       "    </tr>\n",
       "    <tr>\n",
       "      <th>3</th>\n",
       "      <td>Python教研/教学主任</td>\n",
       "      <td>1-1.5万/月</td>\n",
       "      <td>3-4年经验</td>\n",
       "      <td>本科</td>\n",
       "      <td>12500.0</td>\n",
       "    </tr>\n",
       "    <tr>\n",
       "      <th>4</th>\n",
       "      <td>德企招Python 全栈工程师</td>\n",
       "      <td>1-1.5万/月</td>\n",
       "      <td>2年经验</td>\n",
       "      <td>本科</td>\n",
       "      <td>12500.0</td>\n",
       "    </tr>\n",
       "  </tbody>\n",
       "</table>\n",
       "</div>"
      ],
      "text/plain": [
       "                   职位          薪资     工作经验 学历要求    xinzi\n",
       "0  少儿编程讲师-Java/python  0.8-1.2万/月  在校生/应届生   本科  10000.0\n",
       "1         Python开发工程师  0.8-1.2万/月     1年经验   本科  10000.0\n",
       "2         python开发工程师  1.2-1.6万/月     1年经验   本科  14000.0\n",
       "3       Python教研/教学主任    1-1.5万/月   3-4年经验   本科  12500.0\n",
       "4     德企招Python 全栈工程师    1-1.5万/月     2年经验   本科  12500.0"
      ]
     },
     "execution_count": 4,
     "metadata": {},
     "output_type": "execute_result"
    }
   ],
   "source": [
    "df.head(5)"
   ]
  },
  {
   "cell_type": "code",
   "execution_count": 5,
   "metadata": {},
   "outputs": [],
   "source": [
    "df = df[df[\"xinzi\"]<100000]"
   ]
  },
  {
   "cell_type": "code",
   "execution_count": 7,
   "metadata": {},
   "outputs": [
    {
     "name": "stderr",
     "output_type": "stream",
     "text": [
      "/Users/peishuaishuai/anaconda3/lib/python3.7/site-packages/seaborn/distributions.py:2551: FutureWarning: `distplot` is a deprecated function and will be removed in a future version. Please adapt your code to use either `displot` (a figure-level function with similar flexibility) or `histplot` (an axes-level function for histograms).\n",
      "  warnings.warn(msg, FutureWarning)\n"
     ]
    },
    {
     "data": {
      "text/plain": [
       "<matplotlib.axes._subplots.AxesSubplot at 0x7f85d1878290>"
      ]
     },
     "execution_count": 7,
     "metadata": {},
     "output_type": "execute_result"
    },
    {
     "data": {
      "image/png": "[encoded data removed]",
      "text/plain": [
       "<Figure size 864x576 with 1 Axes>"
      ]
     },
     "metadata": {},
     "output_type": "display_data"
    }
   ],
   "source": [
    "import seaborn as sns\n",
    "import matplotlib.pyplot as plt\n",
    "plt.style.use({'figure.figsize':(12, 8)})\n",
    "\n",
    "sns.set_theme();\n",
    "sns.distplot(df[\"xinzi\"])"
   ]
  },
  {
   "cell_type": "code",
   "execution_count": 15,
   "metadata": {},
   "outputs": [],
   "source": [
    "import matplotlib.pyplot as plt\n",
    "\n",
    "plt.rcParams['font.sans-serif'] = ['SimHei']\n",
    "sns.set(font='SimHei')\n"
   ]
  },
  {
   "cell_type": "code",
   "execution_count": 18,
   "metadata": {},
   "outputs": [],
   "source": [
    "import matplotlib"
   ]
  },
  {
   "cell_type": "code",
   "execution_count": 20,
   "metadata": {},
   "outputs": [],
   "source": [
    "myfont = matplotlib.font_manager.FontProperties(fname=\"/Library/Fonts/Arial Unicode.ttf\")#\"/Library/Fonts/Songti.ttc\")\n",
    "\n",
    "sns.set(font=myfont.get_name())\n",
    "\n"
   ]
  },
  {
   "cell_type": "code",
   "execution_count": 24,
   "metadata": {},
   "outputs": [
    {
     "data": {
      "text/plain": [
       "<matplotlib.axes._subplots.AxesSubplot at 0x7f85d304ebd0>"
      ]
     },
     "execution_count": 24,
     "metadata": {},
     "output_type": "execute_result"
    },
    {
     "data": {
      "image/png": "[encoded data removed]",
      "text/plain": [
       "<Figure size 864x576 with 1 Axes>"
      ]
     },
     "metadata": {},
     "output_type": "display_data"
    }
   ],
   "source": [
    "result = df.groupby(\"工作经验\")[\"xinzi\"].mean().reset_index()\n",
    "result.sort_values(by=\"xinzi\", inplace=True)\n",
    "sns.barplot(x=\"工作经验\", y=\"xinzi\", data=result)"
   ]
  },
  {
   "cell_type": "code",
   "execution_count": 25,
   "metadata": {},
   "outputs": [
    {
     "data": {
      "text/plain": [
       "<matplotlib.axes._subplots.AxesSubplot at 0x7f85d32499d0>"
      ]
     },
     "execution_count": 25,
     "metadata": {},
     "output_type": "execute_result"
    },
    {
     "data": {
      "image/png": "[encoded data removed]",
      "text/plain": [
       "<Figure size 864x576 with 1 Axes>"
      ]
     },
     "metadata": {},
     "output_type": "display_data"
    }
   ],
   "source": [
    "result = df.groupby(\"学历要求\")[\"xinzi\"].mean().reset_index()\n",
    "result.sort_values(by=\"xinzi\", inplace=True)\n",
    "sns.barplot(x=\"学历要求\", y=\"xinzi\", data=result)"
   ]
  },
  {
   "cell_type": "code",
   "execution_count": null,
   "metadata": {},
   "outputs": [],
   "source": []
  },
  {
   "cell_type": "code",
   "execution_count": null,
   "metadata": {},
   "outputs": [],
   "source": []
  }
 ],
 "metadata": {
  "kernelspec": {
   "display_name": "Python 3",
   "language": "python",
   "name": "python3"
  },
  "language_info": {
   "codemirror_mode": {
    "name": "ipython",
    "version": 3
   },
   "file_extension": ".py",
   "mimetype": "text/x-python",
   "name": "python",
   "nbconvert_exporter": "python",
   "pygments_lexer": "ipython3",
   "version": "3.7.6"
  }
 },
 "nbformat": 4,
 "nbformat_minor": 4
}

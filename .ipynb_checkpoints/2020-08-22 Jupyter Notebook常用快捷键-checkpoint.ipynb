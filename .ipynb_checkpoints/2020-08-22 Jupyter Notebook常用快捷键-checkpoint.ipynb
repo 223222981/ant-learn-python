{
 "cells": [
  {
   "cell_type": "markdown",
   "metadata": {},
   "source": [
    "## Jupyter Notebook常用快捷键"
   ]
  },
  {
   "cell_type": "markdown",
   "metadata": {},
   "source": [
    "#### 命令模式和编辑模式的切换：\n",
    "* 进入命令模式：随时输入ESC，或者鼠标点击空白区域\n",
    "* 进入编辑模式：输入回车Enter，或者鼠标点击代码框\n",
    "\n",
    "#### 命令模式常用快捷键：\n",
    "* shift+回车：运行代码块, 选择下面的代码块\n",
    "* ctrl+回车: 运行选中的代码块\n",
    "* alt+回车: 运行代码块并且插入下面\n",
    "* Y：把代码块变成代码\n",
    "* M：把代码块变成文本\n",
    "* 数字1/2/3/4/5/6：把代码块变成多级标题\n",
    "* A：在上面插入代码块\n",
    "* B：在下面插入代码块\n",
    "* C：复制选择的代码块\n",
    "* V：在单元格下方粘贴代码块\n",
    "* DD：删除选中单元格\n",
    "* Z：撤销删除\n",
    "* ctrl+s：保存文件\n",
    "\n",
    "#### 编辑模式常用快捷键：\n",
    "* shift+回车：运行代码块, 选择下面的代码块\n",
    "* ctrl+回车: 运行选中的代码块\n",
    "* alt+回车: 运行代码块并且插入下面\n",
    "* ctrl+s：保存文件"
   ]
  }
 ],
 "metadata": {
  "kernelspec": {
   "display_name": "Python 3",
   "language": "python",
   "name": "python3"
  },
  "language_info": {
   "codemirror_mode": {
    "name": "ipython",
    "version": 3
   },
   "file_extension": ".py",
   "mimetype": "text/x-python",
   "name": "python",
   "nbconvert_exporter": "python",
   "pygments_lexer": "ipython3",
   "version": "3.7.6"
  }
 },
 "nbformat": 4,
 "nbformat_minor": 4
}

{
 "cells": [
  {
   "cell_type": "markdown",
   "metadata": {},
   "source": [
    "## 怎样批量统计视频的总时长\n",
    "\n",
    "环境依赖\n",
    "\n",
    "#### 1、安装python包\n",
    "\n",
    "pip install -i https://pypi.tuna.tsinghua.edu.cn/simple ffmpeg-python\n",
    "\n",
    "#### 2、下载windows的exe可执行文件\n",
    "\n",
    "https://web.archive.org/web/20200918193047/https://ffmpeg.zeranoe.com/builds/\n",
    "\n",
    "下载后解压，记住解压路径"
   ]
  },
  {
   "cell_type": "code",
   "execution_count": 47,
   "metadata": {},
   "outputs": [],
   "source": [
    "import os\n",
    "import ffmpeg"
   ]
  },
  {
   "cell_type": "code",
   "execution_count": 48,
   "metadata": {},
   "outputs": [],
   "source": [
    "dir_path = \"G:/2020-11-16 高顿教育/01. 零基础入门学Python\"\n",
    "ffprobe_exe_path = \"D:/software/ffmpeg-20200831-4a11a6f-win64-static/bin/ffprobe.exe\""
   ]
  },
  {
   "cell_type": "code",
   "execution_count": 50,
   "metadata": {
    "scrolled": false
   },
   "outputs": [
    {
     "name": "stdout",
     "output_type": "stream",
     "text": [
      "01.为什么选择学习python.mp4\n",
      "02.Python的学习大纲.mp4\n",
      "03.Python简介和版本选择.mp4\n",
      "04.Python在各个系统的安装.mp4\n",
      "05.命令行下执行Python代码.mp4\n",
      "06.命令行下执行Python文件.mp4\n",
      "07.Python最好用的编辑器Pycharm.mp4\n",
      "08.Python的打印和缩进和注释.mp4\n",
      "09.Python基本数据类型和变量.mp4\n",
      "10.Python的算数和逻辑运算符.mp4\n",
      "11.Python的if语句.mp4\n",
      "12.Python的for循环.mp4\n",
      "13.Python的while循环.mp4\n",
      "14.Python的break和continue关键字.mp4\n",
      "15.Python读写文件的方法.mp4\n",
      "16.Python的字符串知识点讲解.mp4\n",
      "17.Python的列表的索引和切片操作.mp4\n",
      "18.Python的列表支持的函数.mp4\n",
      "19.Python的列表推导式.mp4\n",
      "20.Python的元组Tuple.mp4\n",
      "21.Python的元组和列表的区别.mp4\n",
      "22.Python的字典dict的基础知识.mp4\n",
      "23.Python的字典的常用方法.mp4\n",
      "24.Python的字典的数据统计案例.mp4\n",
      "25.Python的集合set.mp4\n",
      "26.Python的集合set的实际案例.mp4\n",
      "27.Python高级数据结构的总结对比.mp4\n",
      "28.Python实战计算PV和UV第1部分.mp4\n",
      "29.Python实战计算PV和UV第2部分.mp4\n",
      "30.Python代码的组织结构.mp4\n",
      "31.Python的函数的基础知识.mp4\n",
      "32.Python的函数的代码演示.mp4\n",
      "33.Python使用函数重构PVUV实例代码.mp4\n",
      "34.Python的lambda函数和列表的排序.mp4\n",
      "35.Python的类的知识和演示.mp4\n",
      "36.Python的类知识的实际案例.mp4\n",
      "37.Python的异常的基本知识.mp4\n",
      "38.Python模拟处理爬虫的异常.mp4\n",
      "39.Python的包和模块的基础知识.mp4\n",
      "40.Python的常见模块介绍.mp4\n",
      "41.Python的开源模块的安装方法.mp4\n",
      "42.Python的sys和os模块.mp4\n",
      "43.Python的sys和os模块整理文件夹.mp4\n",
      "44.Python的json模块.mp4\n",
      "45.Python使用flask开发web应用程序.mp4\n",
      "46.Python的http爬虫库requests.mp4\n",
      "47.Python使用PyMySQL模块操作MySQL.mp4\n",
      "48.Python使用xlwt模块生成excel.mp4\n",
      "49.Python使用multiprocessing模块开发多进程程序.mp4\n",
      "50.Python课程最后的总结.mp4\n",
      "308.3598722166666\n"
     ]
    }
   ],
   "source": [
    "total_duration = 0.0\n",
    "for fname in os.listdir(dir_path):\n",
    "    if not fname.endswith(\".mp4\"):\n",
    "        continue\n",
    "    fpath = f\"{dir_path}/{fname}\"\n",
    "    print(fname)\n",
    "    info = ffmpeg.probe(fpath, cmd=ffprobe_exe_path)\n",
    "    total_duration += float(info['format']['duration'])\n",
    "\n",
    "print(total_duration/60)"
   ]
  },
  {
   "cell_type": "code",
   "execution_count": null,
   "metadata": {},
   "outputs": [],
   "source": []
  }
 ],
 "metadata": {
  "kernelspec": {
   "display_name": "Python 3",
   "language": "python",
   "name": "python3"
  },
  "language_info": {
   "codemirror_mode": {
    "name": "ipython",
    "version": 3
   },
   "file_extension": ".py",
   "mimetype": "text/x-python",
   "name": "python",
   "nbconvert_exporter": "python",
   "pygments_lexer": "ipython3",
   "version": "3.8.3"
  }
 },
 "nbformat": 4,
 "nbformat_minor": 4
}
